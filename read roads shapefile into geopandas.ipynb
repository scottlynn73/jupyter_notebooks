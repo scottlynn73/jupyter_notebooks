{
 "cells": [
  {
   "cell_type": "code",
   "execution_count": 9,
   "metadata": {
    "collapsed": true
   },
   "outputs": [],
   "source": [
    "import pandas as pd\n",
    "import geopandas as gpd\n",
    "import matplotlib.pyplot as plt\n",
    "\n",
    "%matplotlib qt"
   ]
  },
  {
   "cell_type": "code",
   "execution_count": 2,
   "metadata": {
    "collapsed": true
   },
   "outputs": [],
   "source": [
    "roads_data = gpd.read_file('/Users/scottlynn73/Documents/GIS_TEMP/glasgow_roads.shp')"
   ]
  },
  {
   "cell_type": "code",
   "execution_count": 3,
   "metadata": {
    "collapsed": false
   },
   "outputs": [
    {
     "name": "stdout",
     "output_type": "stream",
     "text": [
      "       aHGVs  buses  cars                                           geometry  \\\n",
      "0        400    625  3687  LINESTRING (-4.2881738 55.8500638, -4.2876763 ...   \n",
      "1        400    282  2623  LINESTRING (-4.3106933 55.8495625, -4.3102942 ...   \n",
      "2        400    495  2149  LINESTRING (-4.0919316 55.8284406, -4.0931767 ...   \n",
      "3        400    648  5759  LINESTRING (-4.0725486 55.8477332, -4.0738463 ...   \n",
      "4        400    943  1083  LINESTRING (-4.2499986 55.8701538, -4.2475628 ...   \n",
      "5        400    737  9772  LINESTRING (-4.3127476 55.8527843, -4.3128759 ...   \n",
      "6        400    913  2901  LINESTRING (-4.3183844 55.8537608, -4.3185634 ...   \n",
      "7        400    756  5858  LINESTRING (-4.3405654 55.8569088, -4.340639 5...   \n",
      "8        400    383  6251  LINESTRING (-4.3527887 55.8634583, -4.3527263 ...   \n",
      "9        400    121  6160  LINESTRING (-4.3533008 55.863433, -4.3538685 5...   \n",
      "10       400    895  5948  LINESTRING (-4.3644734 55.8683615, -4.3605923 ...   \n",
      "11       400    782  6967  LINESTRING (-4.3787121 55.8746872, -4.3786106 ...   \n",
      "12       400    720  5789  LINESTRING (-4.3527887 55.8634583, -4.3528773 ...   \n",
      "13       400    156  4296  LINESTRING (-4.339605 55.8569609, -4.339588 55...   \n",
      "14       400    229  3200  LINESTRING (-4.3183312 55.8539239, -4.3183026 ...   \n",
      "15       400    874  4343  LINESTRING (-4.2581653 55.8698688, -4.2588305 ...   \n",
      "16       400    239  2380  LINESTRING (-4.2511219 55.8704128, -4.2509423 ...   \n",
      "17       400    164  1659  LINESTRING (-4.3290417 55.8739735, -4.3290528 ...   \n",
      "18       400    837  1710  LINESTRING (-4.2225138 55.866045, -4.2228531 5...   \n",
      "19       400    162  2043  LINESTRING (-4.2488281 55.8697578, -4.2492865 ...   \n",
      "20       400    944  2180  LINESTRING (-4.2518699 55.8700733, -4.2531784 ...   \n",
      "21       400    697  3756  LINESTRING (-4.2596065 55.8702191, -4.2592395 ...   \n",
      "22       400    531  5681  LINESTRING (-4.2705444 55.8531036, -4.2706786 ...   \n",
      "23       400    530  8895  LINESTRING (-4.3324282 55.8294373, -4.3325602 ...   \n",
      "24       400    333  6185  LINESTRING (-4.3458609 55.8888538, -4.3458439 ...   \n",
      "25       400    204  2623  LINESTRING (-4.3260208 55.8829313, -4.3257259 ...   \n",
      "26       400    716  4221  LINESTRING (-4.3260676 55.8825378, -4.3255091 ...   \n",
      "27       400    542  5273  LINESTRING (-4.3341658 55.8817761, -4.3339056 ...   \n",
      "28       400    657  5079  LINESTRING (-4.3354803 55.8828612, -4.3355945 ...   \n",
      "29       400    477  3887  LINESTRING (-4.3356489 55.8833348, -4.3355353 ...   \n",
      "...      ...    ...   ...                                                ...   \n",
      "26221    400    483  2934  LINESTRING (-4.1061615 55.8448365, -4.1073542 ...   \n",
      "26222    400    684  2977  LINESTRING (-4.107704 55.844637, -4.1079078 55...   \n",
      "26223    400    307  7290  LINESTRING (-4.1060018 55.8443904, -4.1060703 ...   \n",
      "26224    400    409  8816  LINESTRING (-4.122563 55.8410614, -4.1224951 5...   \n",
      "26225    400    132  9851  LINESTRING (-4.1139635 55.8417619, -4.1138562 ...   \n",
      "26226    400    927  2351  LINESTRING (-4.1079381 55.8446153, -4.1079332 ...   \n",
      "26227    400    553  7894  LINESTRING (-4.1025312 55.8434323, -4.1032534 ...   \n",
      "26228    400    748  6074  LINESTRING (-4.1025477 55.8435405, -4.1024733 ...   \n",
      "26229    400    692  4882  LINESTRING (-4.1048198 55.8436263, -4.1047925 ...   \n",
      "26230    400    305  9872  LINESTRING (-4.1132872 55.8381413, -4.1135847 ...   \n",
      "26231    400    946  1844  LINESTRING (-4.1593339 55.8348737, -4.1594869 ...   \n",
      "26232    400    956  4405  LINESTRING (-4.1581758 55.8356848, -4.1576147 ...   \n",
      "26233    400    375  2501  LINESTRING (-4.2311907 55.9009084, -4.2308368 ...   \n",
      "26234    400    834  9990  LINESTRING (-4.2284125 55.9013654, -4.2285116 ...   \n",
      "26235    400    717  6235  LINESTRING (-4.2277506 55.9009785, -4.228147 5...   \n",
      "26236    400    881  8939  LINESTRING (-4.230361 55.9009748, -4.2303236 5...   \n",
      "26237    400    314  3784  LINESTRING (-4.2289575 55.9013634, -4.2287241 ...   \n",
      "26238    400    596  3723  LINESTRING (-4.2287241 55.9015316, -4.2284125 ...   \n",
      "26239    400    921  5663  LINESTRING (-4.2573647 55.8563793, -4.2573787 ...   \n",
      "26240    400    704  1007  LINESTRING (-4.2776144 55.8705904, -4.2769736 ...   \n",
      "26241    400    710  4930  LINESTRING (-4.2761562 55.869722, -4.2757699 5...   \n",
      "26242    400    687  8167  LINESTRING (-4.2786184 55.8581707, -4.2784371 ...   \n",
      "26243    400    496  1504  LINESTRING (-4.2766734 55.8579253, -4.2763669 ...   \n",
      "26244    400    917  1480  LINESTRING (-4.2785575 55.8587021, -4.2782686 ...   \n",
      "26245    400    333  9367  LINESTRING (-4.274121 55.8568539, -4.2741779 5...   \n",
      "26246    400    205  6453  LINESTRING (-4.2769588 55.8581267, -4.2768548 ...   \n",
      "26247    400    853  5621  LINESTRING (-4.2740757 55.8568473, -4.2741055 ...   \n",
      "26248    400    732  6482  LINESTRING (-4.28348 55.8561155, -4.2835096 55...   \n",
      "26249    400    728  2921  LINESTRING (-4.2905173 55.8714963, -4.2899955 ...   \n",
      "26250    400    312  7506  LINESTRING (-4.302197 55.8717681, -4.3023973 5...   \n",
      "\n",
      "             highway         id  lgvs  rHGVs  speed  \n",
      "0           motorway       1735   958    620     74  \n",
      "1      motorway_link       1762   779    249    100  \n",
      "2      motorway_link       1783   653    400     93  \n",
      "3            primary       1799   831    311     63  \n",
      "4           motorway       1801   966    826     16  \n",
      "5            primary       1876   840    824     70  \n",
      "6            primary       1877   471    680     10  \n",
      "7            primary       1879   511    591     33  \n",
      "8            primary       1880   190    566     65  \n",
      "9            primary       1881   916    781     98  \n",
      "10           primary       1882   537    197     22  \n",
      "11           primary       1884   975    689     86  \n",
      "12           primary       2087   243    545     94  \n",
      "13           primary       2088   382    669     72  \n",
      "14           primary       2089   822    858     47  \n",
      "15           primary      32405   609    451     72  \n",
      "16     motorway_link      32410   731    743     11  \n",
      "17      primary_link      60929   992    877    100  \n",
      "18          motorway    3469490   111    344     90  \n",
      "19     motorway_link    3469491   186    688     44  \n",
      "20          motorway    3469492   527    570     90  \n",
      "21          motorway    3469493   662    201     39  \n",
      "22          motorway    3469494   785    276     69  \n",
      "23          motorway    3630622   376    202     46  \n",
      "24       residential    3665450   955    245     18  \n",
      "25           service    3665481   816    684     41  \n",
      "26           service    3665482   100    512     26  \n",
      "27       residential    3665483   753    522     59  \n",
      "28      unclassified    3665484   940    717     54  \n",
      "29      unclassified    3665485   459    753     19  \n",
      "...              ...        ...   ...    ...    ...  \n",
      "26221    residential  457753725   804    818     47  \n",
      "26222    residential  457753726   307    294     58  \n",
      "26223   construction  457753727   670    301     61  \n",
      "26224      abandoned  457753728   963    945     88  \n",
      "26225    residential  457753744   746    621     24  \n",
      "26226        footway  457753763   580    452     30  \n",
      "26227    residential  457753764   656    556     11  \n",
      "26228    residential  457753765   615    291     86  \n",
      "26229    residential  457753766   821    340     60  \n",
      "26230    residential  457753767   342    743     53  \n",
      "26231  motorway_link  457754874   476    814     95  \n",
      "26232  motorway_link  457754875   173    303     18  \n",
      "26233           path  458157298   831    713     23  \n",
      "26234           path  458157301   314    138     59  \n",
      "26235           path  458157303   828    262     40  \n",
      "26236           path  458157305   406    926     69  \n",
      "26237           path  458157309   271    881     35  \n",
      "26238           path  458157312   627    928     51  \n",
      "26239        footway  458787337   715    396     73  \n",
      "26240          steps  458788360   752    896     26  \n",
      "26241          steps  458788361   681    219     73  \n",
      "26242        service  458789223   272    178     96  \n",
      "26243        service  458789224   479    144     34  \n",
      "26244        service  458789225   470    180     18  \n",
      "26245        footway  458789226   198    168     78  \n",
      "26246        service  458789227   312    302     13  \n",
      "26247        service  458789228   604    873     43  \n",
      "26248        service  458789229   377    817     97  \n",
      "26249        service  458789874   532    483     49  \n",
      "26250        footway  458791978   892    583     35  \n",
      "\n",
      "[26251 rows x 9 columns]\n"
     ]
    }
   ],
   "source": [
    "print(roads_data)"
   ]
  },
  {
   "cell_type": "code",
   "execution_count": 4,
   "metadata": {
    "collapsed": false
   },
   "outputs": [],
   "source": [
    "roads_data_2 = gpd.GeoDataFrame(roads_data)"
   ]
  },
  {
   "cell_type": "code",
   "execution_count": 5,
   "metadata": {
    "collapsed": true
   },
   "outputs": [],
   "source": [
    "roads_data_2['cars'] = roads_data_2['cars'] *1000\n",
    "roads_data_2['buses'] = roads_data_2['buses'] /1000"
   ]
  },
  {
   "cell_type": "code",
   "execution_count": 6,
   "metadata": {
    "collapsed": false
   },
   "outputs": [],
   "source": [
    "roads_data_2.to_file('/Users/scottlynn73/Documents/GIS_TEMP/glasgow_roads_output.shp')"
   ]
  },
  {
   "cell_type": "code",
   "execution_count": 11,
   "metadata": {
    "collapsed": false
   },
   "outputs": [
    {
     "data": {
      "text/plain": [
       "<matplotlib.axes._subplots.AxesSubplot at 0x152d6f610>"
      ]
     },
     "execution_count": 11,
     "metadata": {},
     "output_type": "execute_result"
    }
   ],
   "source": [
    "roads_data_2.plot()"
   ]
  },
  {
   "cell_type": "code",
   "execution_count": null,
   "metadata": {
    "collapsed": true
   },
   "outputs": [],
   "source": []
  },
  {
   "cell_type": "code",
   "execution_count": null,
   "metadata": {
    "collapsed": true
   },
   "outputs": [],
   "source": []
  },
  {
   "cell_type": "code",
   "execution_count": null,
   "metadata": {
    "collapsed": true
   },
   "outputs": [],
   "source": []
  }
 ],
 "metadata": {
  "anaconda-cloud": {},
  "kernelspec": {
   "display_name": "Python [conda env:airmodelling]",
   "language": "python",
   "name": "conda-env-airmodelling-py"
  },
  "language_info": {
   "codemirror_mode": {
    "name": "ipython",
    "version": 2
   },
   "file_extension": ".py",
   "mimetype": "text/x-python",
   "name": "python",
   "nbconvert_exporter": "python",
   "pygments_lexer": "ipython2",
   "version": "2.7.12"
  }
 },
 "nbformat": 4,
 "nbformat_minor": 1
}
