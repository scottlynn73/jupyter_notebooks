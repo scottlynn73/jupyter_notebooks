{
 "cells": [
  {
   "cell_type": "markdown",
   "metadata": {},
   "source": [
    "# Using data from Atholl Street and Strathallan"
   ]
  },
  {
   "cell_type": "code",
   "execution_count": 1,
   "metadata": {
    "collapsed": false
   },
   "outputs": [
    {
     "name": "stderr",
     "output_type": "stream",
     "text": [
      "/Users/scottlynn73/anaconda/envs/airmodelling/lib/python2.7/site-packages/sklearn/cross_validation.py:44: DeprecationWarning: This module was deprecated in version 0.18 in favor of the model_selection module into which all the refactored classes and functions are moved. Also note that the interface of the new CV iterators are different from that of this module. This module will be removed in 0.20.\n",
      "  \"This module will be removed in 0.20.\", DeprecationWarning)\n"
     ]
    }
   ],
   "source": [
    "import numpy as np\n",
    "import pandas as pd\n",
    "from sklearn import preprocessing, neighbors, cross_validation, linear_model, svm, tree"
   ]
  },
  {
   "cell_type": "code",
   "execution_count": 12,
   "metadata": {
    "collapsed": false
   },
   "outputs": [],
   "source": [
    "# read the csv\n",
    "mydata = pd.read_csv(\"/Users/scottlynn73/Documents/Python/machine_learn/perth/all_Data_combined.csv\")\n",
    "mydata = mydata.dropna()"
   ]
  },
  {
   "cell_type": "code",
   "execution_count": 13,
   "metadata": {
    "collapsed": false
   },
   "outputs": [],
   "source": [
    "# can we predict pm2.5 from the other pollutants so Xs excludes this, ys are the class as they are being predicted\n",
    "X = np.array(mydata.drop(['no2'],1))\n",
    "X = np.array(mydata.drop(['date'],1))\n",
    "Y = np.array(mydata['no2'])"
   ]
  },
  {
   "cell_type": "code",
   "execution_count": 14,
   "metadata": {
    "collapsed": false
   },
   "outputs": [],
   "source": [
    "# set up the training and testing, retain 20% of the data for testing\n",
    "X_train, X_test, Y_train, Y_test = cross_validation.train_test_split(X, Y, test_size=0.25)"
   ]
  },
  {
   "cell_type": "code",
   "execution_count": 16,
   "metadata": {
    "collapsed": false
   },
   "outputs": [
    {
     "name": "stdout",
     "output_type": "stream",
     "text": [
      "0.938919321189\n"
     ]
    },
    {
     "name": "stderr",
     "output_type": "stream",
     "text": [
      "/Users/scottlynn73/anaconda/envs/airmodelling/lib/python2.7/site-packages/sklearn/preprocessing/data.py:586: DeprecationWarning: Passing 1d arrays as data is deprecated in 0.17 and will raise ValueError in 0.19. Reshape your data either using X.reshape(-1, 1) if your data has a single feature or X.reshape(1, -1) if it contains a single sample.\n",
      "  warnings.warn(DEPRECATION_MSG_1D, DeprecationWarning)\n",
      "/Users/scottlynn73/anaconda/envs/airmodelling/lib/python2.7/site-packages/sklearn/preprocessing/data.py:649: DeprecationWarning: Passing 1d arrays as data is deprecated in 0.17 and will raise ValueError in 0.19. Reshape your data either using X.reshape(-1, 1) if your data has a single feature or X.reshape(1, -1) if it contains a single sample.\n",
      "  warnings.warn(DEPRECATION_MSG_1D, DeprecationWarning)\n",
      "/Users/scottlynn73/anaconda/envs/airmodelling/lib/python2.7/site-packages/sklearn/preprocessing/data.py:649: DeprecationWarning: Passing 1d arrays as data is deprecated in 0.17 and will raise ValueError in 0.19. Reshape your data either using X.reshape(-1, 1) if your data has a single feature or X.reshape(1, -1) if it contains a single sample.\n",
      "  warnings.warn(DEPRECATION_MSG_1D, DeprecationWarning)\n"
     ]
    },
    {
     "data": {
      "text/plain": [
       "\"\\n# set some tests, these should not be in the original dataset, this is a list of list with \\n# all the measurements but not including the ID or the class (what we're trying to predict)\\nexample_measures1 = np.array([9.6, 3.7, 4.8, 3.5])\\nexample_measures2 = np.array([8.1, 1.6, 4.7, 4.1])\\nexample_measures3 = np.array([9.9, 0.6, 5.2, 4.6])\\n\\nreal_results = [9.7, 7.7, 7.4]\\n     \\n#\\xc2\\xa0needs to be reshaped to the length of the example_features dataset to keep sklearn happy\\nexample_measures1 = example_measures1.reshape(1,-1)\\nexample_measures2 = example_measures2.reshape(1,-1)\\nexample_measures3 = example_measures3.reshape(1,-1)\\n\\n# make the predictions\\nprediction1 = clf.predict(example_measures1)\\nprediction2 = clf.predict(example_measures2)\\nprediction3 = clf.predict(example_measures3)\\n\\nprint(real_results)\\nprint(prediction1)\\nprint(prediction2)\\nprint(prediction3)\\n\""
      ]
     },
     "execution_count": 16,
     "metadata": {},
     "output_type": "execute_result"
    }
   ],
   "source": [
    "from sklearn.preprocessing import StandardScaler  \n",
    "scaler = StandardScaler()  \n",
    "\n",
    "# Don't cheat - fit only on training data\n",
    "\n",
    "scaler.fit(X_train)\n",
    "scaler.fit(Y_train)\n",
    "\n",
    "X_train = scaler.transform(X_train)  \n",
    "Y_train = scaler.transform(Y_train)\n",
    "\n",
    "# apply same transformation to test data\n",
    "\n",
    "X_test = scaler.transform(X_test) \n",
    "Y_test = scaler.transform(Y_test)\n",
    "\n",
    "# run the nearest neighbours classifier\n",
    "clf = neighbors.KNeighborsRegressor()\n",
    "\n",
    "# fit the classifier to the data\n",
    "clf.fit(X_train, Y_train)\n",
    "\n",
    "# how accurate is it?\n",
    "accuracy = clf.score(X_test, Y_test)\n",
    "print(accuracy)\n",
    "\n",
    "\"\"\"\n",
    "# set some tests, these should not be in the original dataset, this is a list of list with \n",
    "# all the measurements but not including the ID or the class (what we're trying to predict)\n",
    "example_measures1 = np.array([9.6, 3.7, 4.8, 3.5])\n",
    "example_measures2 = np.array([8.1, 1.6, 4.7, 4.1])\n",
    "example_measures3 = np.array([9.9, 0.6, 5.2, 4.6])\n",
    "\n",
    "real_results = [9.7, 7.7, 7.4]\n",
    "     \n",
    "# needs to be reshaped to the length of the example_features dataset to keep sklearn happy\n",
    "example_measures1 = example_measures1.reshape(1,-1)\n",
    "example_measures2 = example_measures2.reshape(1,-1)\n",
    "example_measures3 = example_measures3.reshape(1,-1)\n",
    "\n",
    "# make the predictions\n",
    "prediction1 = clf.predict(example_measures1)\n",
    "prediction2 = clf.predict(example_measures2)\n",
    "prediction3 = clf.predict(example_measures3)\n",
    "\n",
    "print(real_results)\n",
    "print(prediction1)\n",
    "print(prediction2)\n",
    "print(prediction3)\n",
    "\"\"\""
   ]
  },
  {
   "cell_type": "code",
   "execution_count": 344,
   "metadata": {
    "collapsed": false
   },
   "outputs": [
    {
     "name": "stdout",
     "output_type": "stream",
     "text": [
      "0.876809974301\n"
     ]
    },
    {
     "name": "stderr",
     "output_type": "stream",
     "text": [
      "/Users/scottlynn73/anaconda/envs/airmodelling/lib/python2.7/site-packages/sklearn/preprocessing/data.py:586: DeprecationWarning: Passing 1d arrays as data is deprecated in 0.17 and will raise ValueError in 0.19. Reshape your data either using X.reshape(-1, 1) if your data has a single feature or X.reshape(1, -1) if it contains a single sample.\n",
      "  warnings.warn(DEPRECATION_MSG_1D, DeprecationWarning)\n",
      "/Users/scottlynn73/anaconda/envs/airmodelling/lib/python2.7/site-packages/sklearn/preprocessing/data.py:649: DeprecationWarning: Passing 1d arrays as data is deprecated in 0.17 and will raise ValueError in 0.19. Reshape your data either using X.reshape(-1, 1) if your data has a single feature or X.reshape(1, -1) if it contains a single sample.\n",
      "  warnings.warn(DEPRECATION_MSG_1D, DeprecationWarning)\n",
      "/Users/scottlynn73/anaconda/envs/airmodelling/lib/python2.7/site-packages/sklearn/preprocessing/data.py:649: DeprecationWarning: Passing 1d arrays as data is deprecated in 0.17 and will raise ValueError in 0.19. Reshape your data either using X.reshape(-1, 1) if your data has a single feature or X.reshape(1, -1) if it contains a single sample.\n",
      "  warnings.warn(DEPRECATION_MSG_1D, DeprecationWarning)\n"
     ]
    }
   ],
   "source": [
    "from sklearn.preprocessing import StandardScaler  \n",
    "scaler = StandardScaler()  \n",
    "\n",
    "# Don't cheat - fit only on training data\n",
    "\n",
    "scaler.fit(X_train)\n",
    "scaler.fit(Y_train)\n",
    "\n",
    "X_train = scaler.transform(X_train)  \n",
    "Y_train = scaler.transform(Y_train)\n",
    "\n",
    "# apply same transformation to test data\n",
    "\n",
    "X_test = scaler.transform(X_test) \n",
    "Y_test = scaler.transform(Y_test\n",
    "                         )\n",
    "# run the linear regression\n",
    "clf = linear_model.LinearRegression()\n",
    "\n",
    "# fit the classifier to the data\n",
    "clf.fit(X_train, Y_train)\n",
    "\n",
    "# how accurate is it?\n",
    "accuracy = clf.score(X_test, Y_test)\n",
    "print(accuracy)"
   ]
  },
  {
   "cell_type": "code",
   "execution_count": 345,
   "metadata": {
    "collapsed": false
   },
   "outputs": [
    {
     "name": "stdout",
     "output_type": "stream",
     "text": [
      "[ 7.61783974  9.42440109  8.3598636 ]\n"
     ]
    }
   ],
   "source": [
    "# set some tests, these should not be in the original dataset, this is a list of list with \n",
    "# all the measurements but not including the ID or the class (what we're trying to predict)\n",
    "example_measures = np.array([[9,2,5,3], [9,4,6,5], [10,1,1,1]])\n",
    "\n",
    "# needs to be reshaped to the length of the example_features dataset to keep sklearn happy\n",
    "example_measures = example_measures.reshape(len(example_measures),-1)\n",
    "\n",
    "# make the predictions\n",
    "prediction = clf.predict(example_measures)\n",
    "print(prediction)"
   ]
  },
  {
   "cell_type": "code",
   "execution_count": 341,
   "metadata": {
    "collapsed": false
   },
   "outputs": [
    {
     "name": "stderr",
     "output_type": "stream",
     "text": [
      "/Users/scottlynn73/anaconda/envs/airmodelling/lib/python2.7/site-packages/sklearn/preprocessing/data.py:586: DeprecationWarning: Passing 1d arrays as data is deprecated in 0.17 and will raise ValueError in 0.19. Reshape your data either using X.reshape(-1, 1) if your data has a single feature or X.reshape(1, -1) if it contains a single sample.\n",
      "  warnings.warn(DEPRECATION_MSG_1D, DeprecationWarning)\n",
      "/Users/scottlynn73/anaconda/envs/airmodelling/lib/python2.7/site-packages/sklearn/preprocessing/data.py:649: DeprecationWarning: Passing 1d arrays as data is deprecated in 0.17 and will raise ValueError in 0.19. Reshape your data either using X.reshape(-1, 1) if your data has a single feature or X.reshape(1, -1) if it contains a single sample.\n",
      "  warnings.warn(DEPRECATION_MSG_1D, DeprecationWarning)\n",
      "/Users/scottlynn73/anaconda/envs/airmodelling/lib/python2.7/site-packages/sklearn/preprocessing/data.py:649: DeprecationWarning: Passing 1d arrays as data is deprecated in 0.17 and will raise ValueError in 0.19. Reshape your data either using X.reshape(-1, 1) if your data has a single feature or X.reshape(1, -1) if it contains a single sample.\n",
      "  warnings.warn(DEPRECATION_MSG_1D, DeprecationWarning)\n"
     ]
    },
    {
     "name": "stdout",
     "output_type": "stream",
     "text": [
      "0.819903877638\n"
     ]
    }
   ],
   "source": [
    "from sklearn.preprocessing import StandardScaler  \n",
    "scaler = StandardScaler()  \n",
    "\n",
    "# Don't cheat - fit only on training data\n",
    "\n",
    "scaler.fit(X_train)\n",
    "scaler.fit(Y_train)\n",
    "\n",
    "X_train = scaler.transform(X_train)  \n",
    "Y_train = scaler.transform(Y_train)\n",
    "\n",
    "# apply same transformation to test data\n",
    "\n",
    "X_test = scaler.transform(X_test) \n",
    "Y_test = scaler.transform(Y_test\n",
    "                         )\n",
    "# run the nearest neighbours classifier\n",
    "clf = svm.SVR()\n",
    "\n",
    "# fit the classifier to the data\n",
    "clf.fit(X_train, Y_train)\n",
    "\n",
    "# how accurate is it?\n",
    "accuracy = clf.score(X_test, Y_test)\n",
    "print(accuracy)"
   ]
  },
  {
   "cell_type": "code",
   "execution_count": 342,
   "metadata": {
    "collapsed": false
   },
   "outputs": [
    {
     "name": "stdout",
     "output_type": "stream",
     "text": [
      "0.73317070511\n"
     ]
    },
    {
     "name": "stderr",
     "output_type": "stream",
     "text": [
      "/Users/scottlynn73/anaconda/envs/airmodelling/lib/python2.7/site-packages/sklearn/preprocessing/data.py:586: DeprecationWarning: Passing 1d arrays as data is deprecated in 0.17 and will raise ValueError in 0.19. Reshape your data either using X.reshape(-1, 1) if your data has a single feature or X.reshape(1, -1) if it contains a single sample.\n",
      "  warnings.warn(DEPRECATION_MSG_1D, DeprecationWarning)\n",
      "/Users/scottlynn73/anaconda/envs/airmodelling/lib/python2.7/site-packages/sklearn/preprocessing/data.py:649: DeprecationWarning: Passing 1d arrays as data is deprecated in 0.17 and will raise ValueError in 0.19. Reshape your data either using X.reshape(-1, 1) if your data has a single feature or X.reshape(1, -1) if it contains a single sample.\n",
      "  warnings.warn(DEPRECATION_MSG_1D, DeprecationWarning)\n",
      "/Users/scottlynn73/anaconda/envs/airmodelling/lib/python2.7/site-packages/sklearn/preprocessing/data.py:649: DeprecationWarning: Passing 1d arrays as data is deprecated in 0.17 and will raise ValueError in 0.19. Reshape your data either using X.reshape(-1, 1) if your data has a single feature or X.reshape(1, -1) if it contains a single sample.\n",
      "  warnings.warn(DEPRECATION_MSG_1D, DeprecationWarning)\n"
     ]
    }
   ],
   "source": [
    "from sklearn.preprocessing import StandardScaler  \n",
    "scaler = StandardScaler()  \n",
    "\n",
    "# Don't cheat - fit only on training data\n",
    "\n",
    "scaler.fit(X_train)\n",
    "scaler.fit(Y_train)\n",
    "\n",
    "X_train = scaler.transform(X_train)  \n",
    "Y_train = scaler.transform(Y_train)\n",
    "\n",
    "# apply same transformation to test data\n",
    "\n",
    "X_test = scaler.transform(X_test) \n",
    "Y_test = scaler.transform(Y_test\n",
    "                         )\n",
    "clf = tree.DecisionTreeRegressor()\n",
    "\n",
    "# fit the classifier to the data\n",
    "clf.fit(X_train, Y_train)\n",
    "\n",
    "# how accurate is it?\n",
    "accuracy = clf.score(X_test, Y_test)\n",
    "print(accuracy)"
   ]
  },
  {
   "cell_type": "code",
   "execution_count": null,
   "metadata": {
    "collapsed": true
   },
   "outputs": [],
   "source": []
  },
  {
   "cell_type": "code",
   "execution_count": null,
   "metadata": {
    "collapsed": true
   },
   "outputs": [],
   "source": []
  }
 ],
 "metadata": {
  "anaconda-cloud": {},
  "kernelspec": {
   "display_name": "Python [conda env:airmodelling]",
   "language": "python",
   "name": "conda-env-airmodelling-py"
  },
  "language_info": {
   "codemirror_mode": {
    "name": "ipython",
    "version": 2
   },
   "file_extension": ".py",
   "mimetype": "text/x-python",
   "name": "python",
   "nbconvert_exporter": "python",
   "pygments_lexer": "ipython2",
   "version": "2.7.12"
  }
 },
 "nbformat": 4,
 "nbformat_minor": 1
}
