{
 "cells": [
  {
   "cell_type": "code",
   "execution_count": 20,
   "metadata": {
    "collapsed": true
   },
   "outputs": [],
   "source": [
    "#http://www3.epa.gov/scram001/guidance/met/mmgrma.pdf\n",
    "from math import cos, sin, atan, pi"
   ]
  },
  {
   "cell_type": "code",
   "execution_count": 21,
   "metadata": {
    "collapsed": false
   },
   "outputs": [],
   "source": [
    "def average_angle(angle1, angle2):\n",
    "    rads1 = math.radians(angle1)\n",
    "    \n",
    "    rads2 = math.radians(angle2)\n",
    "    \n",
    "    sum_sin = (-(math.sin(rads1) + math.sin(rads2)))/2\n",
    "    \n",
    "    sum_cos = (-(math.cos(rads1) + math.cos(rads2)))/2\n",
    "    \n",
    "    ave_dir_rad = math.atan2(sum_sin, sum_cos)\n",
    "    \n",
    "    ave_dir_degrees = math.degrees(ave_dir_rad)\n",
    "    \n",
    "    \n",
    "    if ave_dir_degrees <=180:\n",
    "        ave_angle = ave_dir_degrees+180\n",
    "    elif ave_dir_degrees >180:\n",
    "        ave_angle = ave_dir_degrees-180\n",
    "    if ave_angle == 0:\n",
    "        ave_angle = 360\n",
    "    return ave_angle"
   ]
  },
  {
   "cell_type": "code",
   "execution_count": 32,
   "metadata": {
    "collapsed": false
   },
   "outputs": [
    {
     "data": {
      "text/plain": [
       "180.0"
      ]
     },
     "execution_count": 32,
     "metadata": {},
     "output_type": "execute_result"
    }
   ],
   "source": [
    "average_angle(270, 90)"
   ]
  },
  {
   "cell_type": "code",
   "execution_count": 97,
   "metadata": {
    "collapsed": false
   },
   "outputs": [],
   "source": [
    "canyons = {}\n",
    "canyons[\"canyon00\"] = 0\n",
    "canyons[\"canyon10\"] = 10\n",
    "canyons[\"canyon20\"] = 20\n",
    "canyons[\"canyon30\"] = 30\n",
    "canyons[\"canyon40\"] = 40\n",
    "canyons[\"canyon50\"] = 50\n",
    "canyons[\"canyon60\"] = 60\n",
    "canyons[\"canyon70\"] = 70\n",
    "canyons[\"canyon80\"] = 80\n",
    "canyons[\"canyon90\"] = 90"
   ]
  },
  {
   "cell_type": "code",
   "execution_count": 108,
   "metadata": {
    "collapsed": false
   },
   "outputs": [
    {
     "data": {
      "text/plain": [
       "30"
      ]
     },
     "execution_count": 108,
     "metadata": {},
     "output_type": "execute_result"
    }
   ],
   "source": [
    "wd1 = 30 # dummy wind direction\n",
    "wd_rnd = round(wd1, -1) # round to nearest 10\n",
    "wd_rnd = int(wd_rnd) # convert to integer\n",
    "wd_rnd"
   ]
  },
  {
   "cell_type": "code",
   "execution_count": 115,
   "metadata": {
    "collapsed": false
   },
   "outputs": [
    {
     "name": "stdout",
     "output_type": "stream",
     "text": [
      "('canyon40', 40, 10, 'not canyon!')\n",
      "('canyon50', 50, 20, 'not canyon!')\n",
      "('canyon60', 60, 30, 'not canyon!')\n",
      "('canyon20', 20, 10, 'not canyon!')\n",
      "('canyon80', 80, 50, 'canyon!')\n",
      "('canyon30', 30, 0, 'not canyon!')\n",
      "('canyon90', 90, 60, 'canyon!')\n",
      "('canyon70', 70, 40, 'canyon!')\n",
      "('canyon00', 0, 30, 'not canyon!')\n",
      "('canyon10', 10, 20, 'not canyon!')\n"
     ]
    }
   ],
   "source": [
    "# go through canyon list and check if wind angle is >35 degrees oblique\n",
    "for key, value in canyons.iteritems():\n",
    "    canyon_comparison = abs(wd_rnd - value)\n",
    "    if canyon_comparison <35:\n",
    "        print (key, value, canyon_comparison, \"not canyon!\")\n",
    "    else:\n",
    "        print (key, value, canyon_comparison, \"canyon!\")"
   ]
  },
  {
   "cell_type": "code",
   "execution_count": null,
   "metadata": {
    "collapsed": true
   },
   "outputs": [],
   "source": []
  },
  {
   "cell_type": "code",
   "execution_count": null,
   "metadata": {
    "collapsed": true
   },
   "outputs": [],
   "source": []
  }
 ],
 "metadata": {
  "anaconda-cloud": {},
  "kernelspec": {
   "display_name": "Python [conda env:airmodelling]",
   "language": "python",
   "name": "conda-env-airmodelling-py"
  },
  "language_info": {
   "codemirror_mode": {
    "name": "ipython",
    "version": 2
   },
   "file_extension": ".py",
   "mimetype": "text/x-python",
   "name": "python",
   "nbconvert_exporter": "python",
   "pygments_lexer": "ipython2",
   "version": "2.7.12"
  }
 },
 "nbformat": 4,
 "nbformat_minor": 1
}
