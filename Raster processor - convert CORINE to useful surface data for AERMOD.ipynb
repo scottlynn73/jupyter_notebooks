{
 "cells": [
  {
   "cell_type": "markdown",
   "metadata": {
    "collapsed": true
   },
   "source": [
    "### Conversion of the CORINE land cover data to a useful format for air dispersion modelling\n",
    "Author: Dr Scott Hamilton, Ricardo, 2016, scott.hamilton@ricardo.com\n",
    "\n",
    "#### This python program reads the CORINE raster data which characterises land use across Europe at 100m resolution.\n",
    "\n",
    "Each raster cell data is categorised using the following definitions which are then mapped to definitions\n",
    "published by the USEPA for dispersion modelling- this allows albedo, roughness and Bowen ratio values to be mapped to the categories\n",
    "\n",
    "1 - Continuous urban fabric\n",
    "\n",
    "2 - Discontinuous urban fabric\n",
    "\n",
    "3 - Industrial or commercial units\n",
    "\n",
    "4 - Road and rail networks and associated land\n",
    "\n",
    "5 - Port areas\n",
    "\n",
    "6 - Airports\n",
    "\n",
    "7 - Mineral extraction sites\n",
    "\n",
    "8 - Dump sites\n",
    "\n",
    "9 - Construction sites\n",
    "\n",
    "10 - Green urban areas\n",
    "\n",
    "11 - Sport and leisure facilities\n",
    "\n",
    "12 - Non-irrigated arable land\n",
    "\n",
    "13 - Permanently irrigated land\n",
    "\n",
    "14 - Rice fields\n",
    "\n",
    "15 - Vineyards\n",
    "\n",
    "16 - Fruit trees and berry plantations\n",
    "\n",
    "17 - Olive groves\n",
    "\n",
    "18 - Pastures\n",
    "\n",
    "19 - Annual crops associated with permanent crops\n",
    "\n",
    "20 - Complex cultivation patterns\n",
    "\n",
    "21 - Land principally occupied by agriculture with significant areas of natural vegetation\n",
    "\n",
    "22 - Agro-forestry areas\n",
    "\n",
    "23 - Broad-leaved forest\n",
    "\n",
    "24 - Coniferous forest\n",
    "\n",
    "25 - Mixed forest\n",
    "\n",
    "26 - Natural grasslands\n",
    "\n",
    "27 - Moors and heathland\n",
    "\n",
    "28 - Sclerophyllous vegetation\n",
    "\n",
    "29 - Transitional woodland-shrub\n",
    "\n",
    "30 - Beaches - dunes - sands\n",
    "\n",
    "31 - Bare rocks\n",
    "\n",
    "32 - Sparsely vegetated areas\n",
    "\n",
    "33 - Burnt areas\n",
    "\n",
    "34 - Glaciers and perpetual snow\n",
    "\n",
    "35 - Inland marshes\n",
    "\n",
    "36 - Peat bogs\n",
    "\n",
    "37 - Salt marshes\n",
    "\n",
    "38 - Salines\n",
    "\n",
    "39- Intertidal flats\n",
    "\n",
    "40- Water courses\n",
    "\n",
    "41- Water bodies\n",
    "\n",
    "42- Coastal lagoons\n",
    "\n",
    "43- Estuaries\n",
    "\n",
    "44- Sea and ocean\n",
    "\n",
    "48- NODATA\n",
    "\n",
    "49- UNCLASSIFIED LAND SURFACE\n",
    "\n",
    "50- UNCLASSIFIED WATER BODIES\n",
    "\n",
    "255 - UNCLASSIFIED\n",
    "\n",
    "The USEPA categories are as published in the AERMET and AERSURFACE user guides \n",
    "https://www3.epa.gov/scram001/7thconf/aermod/aermetugb.pdf\n",
    "https://www3.epa.gov/scram001/7thconf/aermod/aersurface_userguide.pdf\n",
    "\n",
    "The script below uses a series of logical tests to check the values stored in the raster cells before reassigning\n",
    "them according to the test. E.g. if the raster cell has the value 1, this means \"continuous urban\" in the CORINE data.\n",
    "This maps to the \"High Intensity Residential\" category in the USGS system which is adopted by the USEPA. Therefore if\n",
    "a value of 1 is found, the appropriate values of roughnes, albedo and Bowen ratio are substituted into the data before\n",
    "the other values (up to 44) are checked and substitutions made. \n",
    "\n",
    "When the subs have been made 3 new raster files are\n",
    "written out with the data. These are then used in QGIS to estimate averages at the met stations using 1km and 10km\n",
    "buffers as recommended by the USEPA.\n",
    "\n",
    "The derived values can be used to set dispersion modelling parameters in a more reproducible manner. They also allow\n",
    "more focussed sensitivity testing and can be used to describe conditions at the dispersion site also. The main issue\n",
    "in that case would be the possibility of underestimating surface roughness which can be up to 3 in large, dense cities.\n",
    "\n",
    "**The roughness length can therefore be treated as a low value which should not be reduced further.**"
   ]
  },
  {
   "cell_type": "code",
   "execution_count": 5,
   "metadata": {
    "collapsed": false
   },
   "outputs": [],
   "source": [
    "#------------------\n",
    "# imports\n",
    "#-----------------\n",
    "import gdal\n",
    "import numpy as np\n",
    "import pandas as pd"
   ]
  },
  {
   "cell_type": "code",
   "execution_count": 6,
   "metadata": {
    "collapsed": false
   },
   "outputs": [],
   "source": [
    "#-----------------\n",
    "# read CORINE raster\n",
    "#-----------------\n",
    "ds = gdal.Open(\"/Users/scottlynn73/Documents/CORINE/g100_clc12_V18_5_UK_ONLY.tif\")\n",
    "my_albedo_array = np.array(ds.GetRasterBand(1).ReadAsArray())\n",
    "my_rough_array  = np.array(ds.GetRasterBand(1).ReadAsArray())\n",
    "my_bowen_array  = np.array(ds.GetRasterBand(1).ReadAsArray())"
   ]
  },
  {
   "cell_type": "code",
   "execution_count": 7,
   "metadata": {
    "collapsed": false
   },
   "outputs": [
    {
     "name": "stdout",
     "output_type": "stream",
     "text": [
      "0.1\n",
      "255.0\n"
     ]
    }
   ],
   "source": [
    "#----------------\n",
    "# replace the values in the array with the correct albedo values according to the classification in CORINE\n",
    "#-----------------\n",
    "my_albedo_array = np.where(my_albedo_array == 1, 0.22, my_albedo_array)  # substitute value for continuous urban\n",
    "my_albedo_array = np.where(my_albedo_array == 2, 0.24, my_albedo_array)  # discontinuous urban\n",
    "my_albedo_array = np.where(my_albedo_array == 3, 0.22, my_albedo_array)  # industrial / commercial\n",
    "my_albedo_array = np.where(my_albedo_array == 4, 0.22, my_albedo_array)  # road/rail\n",
    "my_albedo_array = np.where(my_albedo_array == 5, 0.22, my_albedo_array)  # ports\n",
    "my_albedo_array = np.where(my_albedo_array == 6, 0.22, my_albedo_array)  # airports\n",
    "my_albedo_array = np.where(my_albedo_array == 7, 0.30, my_albedo_array)  # mines\n",
    "my_albedo_array = np.where(my_albedo_array == 8, 0.30, my_albedo_array)  # dumps\n",
    "my_albedo_array = np.where(my_albedo_array == 9, 0.22, my_albedo_array)  # construction\n",
    "my_albedo_array = np.where(my_albedo_array == 10, 0.26, my_albedo_array) # green urban\n",
    "my_albedo_array = np.where(my_albedo_array == 11, 0.22, my_albedo_array) # sport/leisure\n",
    "my_albedo_array = np.where(my_albedo_array == 12, 0.29, my_albedo_array) # non-irrigated arable\n",
    "my_albedo_array = np.where(my_albedo_array == 13, 0.29, my_albedo_array) # irrigated arable\n",
    "my_albedo_array = np.where(my_albedo_array == 14, 0.29, my_albedo_array) # rice fields\n",
    "my_albedo_array = np.where(my_albedo_array == 15, 0.25, my_albedo_array) # vineyards\n",
    "my_albedo_array = np.where(my_albedo_array == 16, 0.25, my_albedo_array) # fruit trees\n",
    "my_albedo_array = np.where(my_albedo_array == 17, 0.25, my_albedo_array) # olive groves\n",
    "my_albedo_array = np.where(my_albedo_array == 18, 0.29, my_albedo_array) # pastures\n",
    "my_albedo_array = np.where(my_albedo_array == 19, 0.29, my_albedo_array) # crops\n",
    "my_albedo_array = np.where(my_albedo_array == 20, 0.29, my_albedo_array) # complex cultivation\n",
    "my_albedo_array = np.where(my_albedo_array == 21, 0.29, my_albedo_array) # agriculture\n",
    "my_albedo_array = np.where(my_albedo_array == 22, 0.21, my_albedo_array) # agro-forest\n",
    "my_albedo_array = np.where(my_albedo_array == 23, 0.25, my_albedo_array) # broad leaved forest\n",
    "my_albedo_array = np.where(my_albedo_array == 24, 0.18, my_albedo_array) # evergreen forest\n",
    "my_albedo_array = np.where(my_albedo_array == 25, 0.21, my_albedo_array) # mix forest\n",
    "my_albedo_array = np.where(my_albedo_array == 26, 0.29, my_albedo_array) # grassland\n",
    "my_albedo_array = np.where(my_albedo_array == 27, 0.29, my_albedo_array) # moors\n",
    "my_albedo_array = np.where(my_albedo_array == 28, 0.29, my_albedo_array) # vegetation\n",
    "my_albedo_array = np.where(my_albedo_array == 29, 0.25, my_albedo_array) # woodland shrub\n",
    "my_albedo_array = np.where(my_albedo_array == 30, 0.30, my_albedo_array) # beaches/ sand\n",
    "my_albedo_array = np.where(my_albedo_array == 31, 0.30, my_albedo_array) # bare rock\n",
    "my_albedo_array = np.where(my_albedo_array == 32, 0.25, my_albedo_array) # sparse vegetation\n",
    "my_albedo_array = np.where(my_albedo_array == 33, 0.25, my_albedo_array) # burnt areas\n",
    "my_albedo_array = np.where(my_albedo_array == 34, 0.63, my_albedo_array) # glacier/ice\n",
    "my_albedo_array = np.where(my_albedo_array == 35, 0.18, my_albedo_array) # inland marsh\n",
    "my_albedo_array = np.where(my_albedo_array == 36, 0.18, my_albedo_array) # peat bog\n",
    "my_albedo_array = np.where(my_albedo_array == 37, 0.18, my_albedo_array) # salt marsh\n",
    "my_albedo_array = np.where(my_albedo_array == 38, 0.18, my_albedo_array) # salines\n",
    "my_albedo_array = np.where(my_albedo_array == 39, 0.18, my_albedo_array) # intertidal flats\n",
    "my_albedo_array = np.where(my_albedo_array == 40, 0.10, my_albedo_array) # water courses\n",
    "my_albedo_array = np.where(my_albedo_array == 41, 0.10, my_albedo_array) # water bodies\n",
    "my_albedo_array = np.where(my_albedo_array == 42, 0.10, my_albedo_array) # coastal lagoon\n",
    "my_albedo_array = np.where(my_albedo_array == 43, 0.10, my_albedo_array) # estuaries\n",
    "my_albedo_array = np.where(my_albedo_array == 44, 0.10, my_albedo_array) # sea and ocean\n",
    "\n",
    "print(my_albedo_array.min())\n",
    "print(my_albedo_array.max())"
   ]
  },
  {
   "cell_type": "code",
   "execution_count": 4,
   "metadata": {
    "collapsed": false
   },
   "outputs": [
    {
     "name": "stdout",
     "output_type": "stream",
     "text": [
      "0.0\n",
      "1.3\n"
     ]
    }
   ],
   "source": [
    "#----------------\n",
    "# replace the roughness length values in the roughness array with the correct  values according to the classification in CORINE\n",
    "#-----------------\n",
    "my_rough_array = np.where(my_rough_array == 1, 1, my_rough_array) # substitute value for continuous urban\n",
    "my_rough_array = np.where(my_rough_array == 2, 0.38, my_rough_array) # discontinuous urban\n",
    "my_rough_array = np.where(my_rough_array == 3, 0.38, my_rough_array) # industrial / commercial\n",
    "my_rough_array = np.where(my_rough_array == 4, 0.38, my_rough_array) # road/rail\n",
    "my_rough_array = np.where(my_rough_array == 5, 0.70, my_rough_array) # ports\n",
    "my_rough_array = np.where(my_rough_array == 6, 0.07, my_rough_array) # airports\n",
    "my_rough_array = np.where(my_rough_array == 7, 0.05, my_rough_array) # mines\n",
    "my_rough_array = np.where(my_rough_array == 8, 0.05, my_rough_array) # dumps\n",
    "my_rough_array = np.where(my_rough_array == 9, 0.38, my_rough_array) # construction\n",
    "my_rough_array = np.where(my_rough_array == 10, 0.02, my_rough_array) # green urban\n",
    "my_rough_array = np.where(my_rough_array == 11, 0.38, my_rough_array) # sport/leisure\n",
    "my_rough_array = np.where(my_rough_array == 12, 0.05, my_rough_array) # non-irrigated arable\n",
    "my_rough_array = np.where(my_rough_array == 13, 0.05, my_rough_array) # irrigated arable\n",
    "my_rough_array = np.where(my_rough_array == 14, 0.05, my_rough_array) # rice fields\n",
    "my_rough_array = np.where(my_rough_array == 15, 0.23, my_rough_array) # vineyards\n",
    "my_rough_array = np.where(my_rough_array == 16, 0.23, my_rough_array) # fruit trees\n",
    "my_rough_array = np.where(my_rough_array == 17, 0.23, my_rough_array) # olive groves\n",
    "my_rough_array = np.where(my_rough_array == 18, 0.09, my_rough_array) # pastures\n",
    "my_rough_array = np.where(my_rough_array == 19, 0.09, my_rough_array) # crops\n",
    "my_rough_array = np.where(my_rough_array == 20, 0.09, my_rough_array) # complex cultivation\n",
    "my_rough_array = np.where(my_rough_array == 21, 0.09, my_rough_array) # agriculture\n",
    "my_rough_array = np.where(my_rough_array == 22, 1.05, my_rough_array) # agro-forest\n",
    "my_rough_array = np.where(my_rough_array == 23, 1.15, my_rough_array) # broad leaved forest\n",
    "my_rough_array = np.where(my_rough_array == 24, 1.30, my_rough_array) # evergreen forest\n",
    "my_rough_array = np.where(my_rough_array == 25, 1.15, my_rough_array) # mix forest\n",
    "my_rough_array = np.where(my_rough_array == 26, 0.07, my_rough_array) # grassland\n",
    "my_rough_array = np.where(my_rough_array == 27, 0.07, my_rough_array) # moors\n",
    "my_rough_array = np.where(my_rough_array == 28, 0.07, my_rough_array) # vegetation\n",
    "my_rough_array = np.where(my_rough_array == 29, 0.26, my_rough_array) # woodland shrub\n",
    "my_rough_array = np.where(my_rough_array == 30, 0.05, my_rough_array) # beaches/ sand\n",
    "my_rough_array = np.where(my_rough_array == 31, 0.05, my_rough_array) # bare rock\n",
    "my_rough_array = np.where(my_rough_array == 32, 0.04, my_rough_array) # sparse vegetation\n",
    "my_rough_array = np.where(my_rough_array == 33, 0.04, my_rough_array) # burnt areas\n",
    "my_rough_array = np.where(my_rough_array == 34, 0.02, my_rough_array) # glacier/ice\n",
    "my_rough_array = np.where(my_rough_array == 35, 0.04, my_rough_array) # inland marsh\n",
    "my_rough_array = np.where(my_rough_array == 36, 0.04, my_rough_array) # peat bog\n",
    "my_rough_array = np.where(my_rough_array == 37, 0.04, my_rough_array) # salt marsh\n",
    "my_rough_array = np.where(my_rough_array == 38, 0.01, my_rough_array) # salines\n",
    "my_rough_array = np.where(my_rough_array == 39, 0.01, my_rough_array) # intertidal flats\n",
    "my_rough_array = np.where(my_rough_array == 40, 0.01, my_rough_array) # water courses\n",
    "my_rough_array = np.where(my_rough_array == 41, 0.01, my_rough_array) # water bodies\n",
    "my_rough_array = np.where(my_rough_array == 42, 0.01, my_rough_array) # coastal lagoon\n",
    "my_rough_array = np.where(my_rough_array == 43, 0.01, my_rough_array) # estuaries\n",
    "my_rough_array = np.where(my_rough_array == 44, 0.01, my_rough_array) # sea and ocean\n",
    "\n",
    "print(my_rough_array.min())\n",
    "print(my_rough_array.max())"
   ]
  },
  {
   "cell_type": "code",
   "execution_count": 8,
   "metadata": {
    "collapsed": false
   },
   "outputs": [
    {
     "name": "stdout",
     "output_type": "stream",
     "text": [
      "0.1\n",
      "255.0\n"
     ]
    }
   ],
   "source": [
    "#----------------\n",
    "# replace the bowen values in the array with the correct  values according to the classification in CORINE\n",
    "#-----------------\n",
    "my_bowen_array = np.where(my_bowen_array == 1, 1.5, my_bowen_array) # substitute value for continuous urban\n",
    "my_bowen_array = np.where(my_bowen_array == 2, 0.9, my_bowen_array) # discontinuous urban\n",
    "my_bowen_array = np.where(my_bowen_array == 3, 1.5, my_bowen_array) # industrial / commercial\n",
    "my_bowen_array = np.where(my_bowen_array == 4, 1.5, my_bowen_array) # road/rail\n",
    "my_bowen_array = np.where(my_bowen_array == 5, 1.5, my_bowen_array) # ports\n",
    "my_bowen_array = np.where(my_bowen_array == 6, 1.5, my_bowen_array) # airports\n",
    "my_bowen_array = np.where(my_bowen_array == 7, 4.75, my_bowen_array) # mines\n",
    "my_bowen_array = np.where(my_bowen_array == 8, 1.5, my_bowen_array) # dumps\n",
    "my_bowen_array = np.where(my_bowen_array == 9, 1.5, my_bowen_array) # construction\n",
    "my_bowen_array = np.where(my_bowen_array == 10, 0.55, my_bowen_array) # green urban\n",
    "my_bowen_array = np.where(my_bowen_array == 11, 1.5, my_bowen_array) # sport/leisure\n",
    "my_bowen_array = np.where(my_bowen_array == 12, 0.55, my_bowen_array) # non-irrigated arable\n",
    "my_bowen_array = np.where(my_bowen_array == 13, 0.55, my_bowen_array) # irrigated arable\n",
    "my_bowen_array = np.where(my_bowen_array == 14, 0.55, my_bowen_array) # rice fields\n",
    "my_bowen_array = np.where(my_bowen_array == 15, 0.55, my_bowen_array) # vineyards\n",
    "my_bowen_array = np.where(my_bowen_array == 16, 0.55, my_bowen_array) # fruit trees\n",
    "my_bowen_array = np.where(my_bowen_array == 17, 0.55, my_bowen_array) # olive groves\n",
    "my_bowen_array = np.where(my_bowen_array == 18, 0.55, my_bowen_array) # pastures\n",
    "my_bowen_array = np.where(my_bowen_array == 19, 0.55, my_bowen_array) # crops\n",
    "my_bowen_array = np.where(my_bowen_array == 20, 0.55, my_bowen_array) # complex cultivation\n",
    "my_bowen_array = np.where(my_bowen_array == 21, 0.55, my_bowen_array) # agriculture\n",
    "my_bowen_array = np.where(my_bowen_array == 22, 0.7, my_bowen_array) # agro-forest\n",
    "my_bowen_array = np.where(my_bowen_array == 23, 0.75, my_bowen_array) # broad leaved forest\n",
    "my_bowen_array = np.where(my_bowen_array == 24, 0.65, my_bowen_array) # evergreen forest\n",
    "my_bowen_array = np.where(my_bowen_array == 25, 0.7, my_bowen_array) # mix forest\n",
    "my_bowen_array = np.where(my_bowen_array == 26, 0.8, my_bowen_array) # grassland\n",
    "my_bowen_array = np.where(my_bowen_array == 27, 0.8, my_bowen_array) # moors\n",
    "my_bowen_array = np.where(my_bowen_array == 28, 0.8, my_bowen_array) # vegetation\n",
    "my_bowen_array = np.where(my_bowen_array == 29, 1.25, my_bowen_array) # woodland shrub\n",
    "my_bowen_array = np.where(my_bowen_array == 30, 1.5, my_bowen_array) # beaches/ sand\n",
    "my_bowen_array = np.where(my_bowen_array == 31, 1.5, my_bowen_array) # bare rock\n",
    "my_bowen_array = np.where(my_bowen_array == 32, 0.55, my_bowen_array) # sparse vegetation\n",
    "my_bowen_array = np.where(my_bowen_array == 33, 0.55, my_bowen_array) # burnt areas\n",
    "my_bowen_array = np.where(my_bowen_array == 34, 0.5, my_bowen_array) # glacier/ice\n",
    "my_bowen_array = np.where(my_bowen_array == 35, 0.1, my_bowen_array) # inland marsh\n",
    "my_bowen_array = np.where(my_bowen_array == 36, 0.1, my_bowen_array) # peat bog\n",
    "my_bowen_array = np.where(my_bowen_array == 37, 0.1, my_bowen_array) # salt marsh\n",
    "my_bowen_array = np.where(my_bowen_array == 38, 0.1, my_bowen_array) # salines\n",
    "my_bowen_array = np.where(my_bowen_array == 39, 0.1, my_bowen_array) # intertidal flats\n",
    "my_bowen_array = np.where(my_bowen_array == 40, 0.1, my_bowen_array) # water courses\n",
    "my_bowen_array = np.where(my_bowen_array == 41, 0.1, my_bowen_array) # water bodies\n",
    "my_bowen_array = np.where(my_bowen_array == 42, 0.1, my_bowen_array) # coastal lagoon\n",
    "my_bowen_array = np.where(my_bowen_array == 43, 0.1, my_bowen_array) # estuaries\n",
    "my_bowen_array = np.where(my_bowen_array == 44, 0.1, my_bowen_array) # sea and ocean\n",
    "\n",
    "print(my_bowen_array.min())\n",
    "print(my_bowen_array.max())"
   ]
  },
  {
   "cell_type": "code",
   "execution_count": 9,
   "metadata": {
    "collapsed": false
   },
   "outputs": [],
   "source": [
    "# First of all, gather some information from the original file\n",
    "[cols,rows] = my_albedo_array.shape\n",
    "trans = ds.GetGeoTransform()\n",
    "proj = ds.GetProjection()\n",
    "albedo_outfile= \"/Users/scottlynn73/Documents/CORINE/albedo_CORINE.tif\"\n",
    "bowen_outfile = \"/Users/scottlynn73/Documents/CORINEbowen_CORINE.tif\"\n",
    "rough_outfile = \"/Users/scottlynn73/Documents/CORINEroughness_CORINE.tif\""
   ]
  },
  {
   "cell_type": "code",
   "execution_count": 10,
   "metadata": {
    "collapsed": false
   },
   "outputs": [
    {
     "data": {
      "text/plain": [
       "0"
      ]
     },
     "execution_count": 10,
     "metadata": {},
     "output_type": "execute_result"
    }
   ],
   "source": [
    "#---------------------------\n",
    "# Create the files, using the geo information from the original file\n",
    "#--------------------------\n",
    "outdriver = gdal.GetDriverByName(\"GTiff\")\n",
    "\n",
    "#--------------------------\n",
    "# Spit out the albedo geotiff\n",
    "#--------------------------\n",
    "outdata   = outdriver.Create(str(albedo_outfile), rows, cols, 1, gdal.GDT_Float32)\n",
    "outdata.GetRasterBand(1).WriteArray(my_albedo_array)\n",
    "# Georeference the image\n",
    "outdata.SetGeoTransform(trans)\n",
    "# Write projection information\n",
    "outdata.SetProjection(proj)\n",
    "\n",
    "#--------------------------\n",
    "# Spit out the roughness geotiff\n",
    "#--------------------------\n",
    "outdata   = outdriver.Create(str(rough_outfile), rows, cols, 1, gdal.GDT_Float32)\n",
    "# Write the array to the file, which is the original array in this example\n",
    "outdata.GetRasterBand(1).WriteArray(my_rough_array)\n",
    "# Georeference the image\n",
    "outdata.SetGeoTransform(trans)\n",
    "# Write projection information\n",
    "outdata.SetProjection(proj)"
   ]
  },
  {
   "cell_type": "code",
   "execution_count": 11,
   "metadata": {
    "collapsed": false
   },
   "outputs": [
    {
     "data": {
      "text/plain": [
       "0"
      ]
     },
     "execution_count": 11,
     "metadata": {},
     "output_type": "execute_result"
    }
   ],
   "source": [
    "#---------------------------\n",
    "# Spit out the bowen geotiff\n",
    "#---------------------------\n",
    "outdata   = outdriver.Create(str(bowen_outfile), rows, cols, 1, gdal.GDT_Float32)\n",
    "# Write the array to the file, which is the original array in this example\n",
    "outdata.GetRasterBand(1).WriteArray(my_bowen_array)\n",
    "# Georeference the image\n",
    "outdata.SetGeoTransform(trans)\n",
    "# Write projection information\n",
    "outdata.SetProjection(proj)"
   ]
  },
  {
   "cell_type": "code",
   "execution_count": null,
   "metadata": {
    "collapsed": true
   },
   "outputs": [],
   "source": []
  }
 ],
 "metadata": {
  "anaconda-cloud": {},
  "kernelspec": {
   "display_name": "Python [conda env:airmodelling]",
   "language": "python",
   "name": "conda-env-airmodelling-py"
  },
  "language_info": {
   "codemirror_mode": {
    "name": "ipython",
    "version": 2
   },
   "file_extension": ".py",
   "mimetype": "text/x-python",
   "name": "python",
   "nbconvert_exporter": "python",
   "pygments_lexer": "ipython2",
   "version": "2.7.12"
  }
 },
 "nbformat": 4,
 "nbformat_minor": 2
}
