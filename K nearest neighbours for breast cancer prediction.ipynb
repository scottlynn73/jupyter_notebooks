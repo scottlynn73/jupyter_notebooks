{
 "cells": [
  {
   "cell_type": "markdown",
   "metadata": {},
   "source": [
    "# Using data from UC Irvine. http://archive.ics.uci.edu/ml/datasets/Breast+Cancer+Wisconsin+%28Original%29\n",
    "## Each dataset has a metadata description with the fields in the data, missing data indicators etc"
   ]
  },
  {
   "cell_type": "code",
   "execution_count": 85,
   "metadata": {
    "collapsed": false
   },
   "outputs": [],
   "source": [
    "import numpy as np\n",
    "import pandas as pd\n",
    "from sklearn import preprocessing, neighbors, cross_validation"
   ]
  },
  {
   "cell_type": "code",
   "execution_count": 86,
   "metadata": {
    "collapsed": false
   },
   "outputs": [],
   "source": [
    "# read the csv\n",
    "df = pd.read_csv(\"/Users/scottlynn73/Documents/Python/breast_cancer.txt\")\n",
    "\n",
    "# replace ? with -99999, ? is missing data as per metadata document, -99999 makes it a huge outlier that thw algo overlooks\n",
    "df.replace('?', -99999, inplace=True)\n",
    "\n",
    "# get rid of the id column as it has no predictive power\n",
    "df.drop(['id'],1 , inplace=True)"
   ]
  },
  {
   "cell_type": "code",
   "execution_count": 87,
   "metadata": {
    "collapsed": false
   },
   "outputs": [
    {
     "name": "stdout",
     "output_type": "stream",
     "text": [
      "0.978571428571\n"
     ]
    }
   ],
   "source": [
    "# we're trying to predict 'class' so Xs excludes this, ys are the class as they are being predicted\n",
    "X = np.array(df.drop(['class'],1))\n",
    "y = np.array(df['class'])\n",
    "\n",
    "# set up the training and testing, retain 20% of the data for testing\n",
    "X_train, X_test, y_train, y_test = cross_validation.train_test_split(X,y,test_size=0.2)\n",
    "\n",
    "# run the nearest neighbours classifier\n",
    "clf = neighbors.KNeighborsClassifier()\n",
    "\n",
    "# fit the classifier to the data\n",
    "clf.fit(X_train, y_train)\n",
    "\n",
    "# how accurate is it?\n",
    "accuracy = clf.score(X_test, y_test)\n",
    "print(accuracy)"
   ]
  },
  {
   "cell_type": "code",
   "execution_count": 84,
   "metadata": {
    "collapsed": false
   },
   "outputs": [
    {
     "name": "stdout",
     "output_type": "stream",
     "text": [
      "[4 4 2]\n"
     ]
    }
   ],
   "source": [
    "# set some tests, these should not be in the original dataset, this is a list of list with \n",
    "# all the measurements but not including the ID or the class (what we're trying to predict)\n",
    "example_measures = np.array([[9,2,5,3,2,6,3,10,2], [9,4,6,5,1,5,2,11,3], [10,1,1,1,2,1,3,7,1]])\n",
    "\n",
    "# needs to be reshaped to the length of the example_features dataset to keep sklearn happy\n",
    "example_measures = example_measures.reshape(len(example_measures),-1)\n",
    "\n",
    "# make the predictions\n",
    "prediction = clf.predict(example_measures)\n",
    "print(prediction)"
   ]
  },
  {
   "cell_type": "code",
   "execution_count": null,
   "metadata": {
    "collapsed": true
   },
   "outputs": [],
   "source": []
  },
  {
   "cell_type": "code",
   "execution_count": null,
   "metadata": {
    "collapsed": true
   },
   "outputs": [],
   "source": []
  }
 ],
 "metadata": {
  "kernelspec": {
   "display_name": "Python [conda env:airmodelling]",
   "language": "python",
   "name": "conda-env-airmodelling-py"
  },
  "language_info": {
   "codemirror_mode": {
    "name": "ipython",
    "version": 2
   },
   "file_extension": ".py",
   "mimetype": "text/x-python",
   "name": "python",
   "nbconvert_exporter": "python",
   "pygments_lexer": "ipython2",
   "version": "2.7.12"
  }
 },
 "nbformat": 4,
 "nbformat_minor": 1
}
