{
 "cells": [
  {
   "cell_type": "markdown",
   "metadata": {},
   "source": [
    "## Stack gas correction- mass per volume to various units of mass per time"
   ]
  },
  {
   "cell_type": "markdown",
   "metadata": {},
   "source": [
    "This example will walk you through the process of converting from a mass per volume value to an annual mass release in tonnes for a gaseous species. In this example it is assumed that the concentration of emissions in the effluent is in mg/m3 and that initial values are reported at actual conditions."
   ]
  },
  {
   "cell_type": "markdown",
   "metadata": {},
   "source": [
    "### (1) The first step is to calculate the stack's actual volumetric gas flow rate"
   ]
  },
  {
   "cell_type": "code",
   "execution_count": 94,
   "metadata": {
    "collapsed": false
   },
   "outputs": [
    {
     "name": "stdout",
     "output_type": "stream",
     "text": [
      "your volumetric flow rate is 0.424 m3 per second\n"
     ]
    }
   ],
   "source": [
    "#========================\n",
    "# User inputs\n",
    "#========================\n",
    "stack_diameter = 0.3 # metres\n",
    "gas_velocity = 6 # metres/second\n",
    "\n",
    "#========================\n",
    "# Equation (don't change)\n",
    "#========================(\n",
    "volumetric_flow_rate = round(gas_velocity * (3.1416 * (stack_diameter)**2 / 4),3)\n",
    "print \"your volumetric flow rate is {} m3 per second\".format(volumetric_flow_rate)"
   ]
  },
  {
   "cell_type": "markdown",
   "metadata": {},
   "source": [
    "### (2) Then you need to correct the stack gas flow rate for the moisture content and to standard conditions"
   ]
  },
  {
   "cell_type": "code",
   "execution_count": 95,
   "metadata": {
    "collapsed": false
   },
   "outputs": [
    {
     "name": "stdout",
     "output_type": "stream",
     "text": [
      "the dry volumetric flow is 0.31 m3 per second\n"
     ]
    }
   ],
   "source": [
    "#========================\n",
    "# Enter values for a your stack below\n",
    "#========================\n",
    "moisture_content = 13 # percent\n",
    "actual_temperature = 100 # degrees C\n",
    "pressure_actual = 1 # atm\n",
    "\n",
    "#========================\n",
    "# Equation (don't change)\n",
    "#========================\n",
    "dry_volumetric_flow = volumetric_flow_rate* (273.15/(273.15 + actual_temperature)) * pressure_actual/1 * (1-(moisture_content/100))\n",
    "dry_volumetric_flow = round(dry_volumetric_flow,3)\n",
    "print \"the dry volumetric flow is {} m3 per second\".format(dry_volumetric_flow)"
   ]
  },
  {
   "cell_type": "markdown",
   "metadata": {},
   "source": [
    "### (3) The next step is to use the stack flow rate (m3/min) to convert to a mass emission rate as follows:"
   ]
  },
  {
   "cell_type": "code",
   "execution_count": 96,
   "metadata": {
    "collapsed": false
   },
   "outputs": [
    {
     "name": "stdout",
     "output_type": "stream",
     "text": [
      "the mass emission rate is 0.062 g/s\n"
     ]
    }
   ],
   "source": [
    "#========================\n",
    "# Enter details about the release here\n",
    "#========================\n",
    "emission_per_volume = 200 # mg/m3\n",
    "\n",
    "#=======================\n",
    "# Equation(don't change)\n",
    "#=======================\n",
    "emission_per_second = round((dry_volumetric_flow * emission_per_volume/1000),3)\n",
    "\n",
    "print \"the mass emission rate is {} g/s\".format(emission_per_second)"
   ]
  },
  {
   "cell_type": "code",
   "execution_count": 97,
   "metadata": {
    "collapsed": false
   },
   "outputs": [
    {
     "name": "stdout",
     "output_type": "stream",
     "text": [
      "emission per hour is 223.2 g/hr\n",
      "emission per year is 1955232.0 g/year\n",
      "emission per year(t) 1.96 t/year\n"
     ]
    }
   ],
   "source": [
    "#==============================\n",
    "# Emissions for different time period\n",
    "# Don't change this, just run it.\n",
    "#==============================\n",
    "emissions_per_hour =round((emission_per_second * 3600),2)\n",
    "emissions_per_year = round((emission_per_second * 3600 * 8760),2)\n",
    "emissions_per_year_tonnes = round((emissions_per_year/1000000),2)\n",
    "print \"emission per hour is {} g/hr\".format(emissions_per_hour)\n",
    "print \"emission per year is {} g/year\".format(emissions_per_year)\n",
    "print \"emission per year(t) {} t/year\".format(emissions_per_year_tonnes)"
   ]
  },
  {
   "cell_type": "code",
   "execution_count": 98,
   "metadata": {
    "collapsed": false
   },
   "outputs": [
    {
     "name": "stdout",
     "output_type": "stream",
     "text": [
      "=====================================================================\n",
      "The stack emissions were calculated based on the following parameters\n",
      "---------------------------------------------------------------------\n",
      "-Stack diameter      = 0.3 m\n",
      "-Exit velocity       = 6 m/s\n",
      "-Volumetric flow     = 0.31 m3/s\n",
      "-Emission per volume = 200 mg/m3\n",
      "-Emission per second = 0.062 g/s\n",
      "-Emission per year   = 1955232.0 g/yr\n",
      "-Emission per year   = 1.96 t/yr\n",
      "=====================================================================\n"
     ]
    }
   ],
   "source": [
    "#==============================\n",
    "# Copy this to your report\n",
    "#==============================\n",
    "print \"=====================================================================\"\n",
    "print \"The stack emissions were calculated based on the following parameters\"\n",
    "print \"---------------------------------------------------------------------\"\n",
    "print \"-Stack diameter      = {} m\".format(stack_diameter)\n",
    "print \"-Exit velocity       = {} m/s\".format(gas_velocity)\n",
    "print \"-Volumetric flow     = {} m3/s\".format(dry_volumetric_flow)\n",
    "print \"-Emission per volume = {} mg/m3\".format(emission_per_volume)\n",
    "print \"-Emission per second = {} g/s\".format(emission_per_second)\n",
    "print \"-Emission per year   = {} g/yr\".format(emissions_per_year)\n",
    "print \"-Emission per year   = {} t/yr\".format(emissions_per_year_tonnes)\n",
    "print \"=====================================================================\""
   ]
  },
  {
   "cell_type": "code",
   "execution_count": null,
   "metadata": {
    "collapsed": true
   },
   "outputs": [],
   "source": []
  },
  {
   "cell_type": "code",
   "execution_count": null,
   "metadata": {
    "collapsed": true
   },
   "outputs": [],
   "source": []
  },
  {
   "cell_type": "markdown",
   "metadata": {},
   "source": [
    "## Stack gas correction- ppm (volume) to various units of mass per time"
   ]
  },
  {
   "cell_type": "markdown",
   "metadata": {},
   "source": [
    "If emissions from the stack are presented in ppm for CO, SO2, NOx we correct using this method."
   ]
  },
  {
   "cell_type": "markdown",
   "metadata": {},
   "source": [
    "### (1) The first step is to calculate the stack's actual volumetric gas flow rate"
   ]
  },
  {
   "cell_type": "code",
   "execution_count": 94,
   "metadata": {
    "collapsed": false
   },
   "outputs": [
    {
     "name": "stdout",
     "output_type": "stream",
     "text": [
      "your volumetric flow rate is 0.424 m3 per second\n"
     ]
    }
   ],
   "source": [
    "#========================\n",
    "# User inputs\n",
    "#========================\n",
    "stack_diameter = 0.3 # metres\n",
    "gas_velocity = 6 # metres/second\n",
    "\n",
    "#========================\n",
    "# Equation (don't change)\n",
    "#========================(\n",
    "volumetric_flow_rate = round(gas_velocity * (3.1416 * (stack_diameter)**2 / 4),3)\n",
    "print \"your volumetric flow rate is {} m3 per second\".format(volumetric_flow_rate)"
   ]
  },
  {
   "cell_type": "markdown",
   "metadata": {},
   "source": [
    "### (2) Then you need to correct the stack gas flow rate for the moisture content and to standard conditions"
   ]
  },
  {
   "cell_type": "code",
   "execution_count": 95,
   "metadata": {
    "collapsed": false
   },
   "outputs": [
    {
     "name": "stdout",
     "output_type": "stream",
     "text": [
      "the dry volumetric flow is 0.31 m3 per second\n"
     ]
    }
   ],
   "source": [
    "#========================\n",
    "# Enter values for a your stack below\n",
    "#========================\n",
    "moisture_content = 13 # percent\n",
    "actual_temperature = 100 # degrees C\n",
    "pressure_actual = 1 # atm\n",
    "\n",
    "#========================\n",
    "# Equation (don't change)\n",
    "#========================\n",
    "dry_volumetric_flow = volumetric_flow_rate* (273.15/(273.15 + actual_temperature)) * pressure_actual/1 * (1-(moisture_content/100))\n",
    "dry_volumetric_flow = round(dry_volumetric_flow,3)\n",
    "print \"the dry volumetric flow is {} m3 per second\".format(dry_volumetric_flow)"
   ]
  },
  {
   "cell_type": "markdown",
   "metadata": {},
   "source": [
    "###  (3) The next step is to Convert from ppm (volume) to mass emission rate (kg/h) "
   ]
  },
  {
   "cell_type": "code",
   "execution_count": 134,
   "metadata": {
    "collapsed": false
   },
   "outputs": [
    {
     "name": "stdout",
     "output_type": "stream",
     "text": [
      "Emission per second = 0.067 g/s\n"
     ]
    }
   ],
   "source": [
    "#========================\n",
    "# Enter values for a your stack below\n",
    "#========================\n",
    "ppm_volume = 106 # ppm\n",
    "density_air = 1.29 # kg/m3\n",
    "mol_wt_gas = 46 # 46 for NOx, 28 for CO, 64.06 for SO2, air is 28.97\n",
    "mol_wt_air = 28.97\n",
    "\n",
    "#========================\n",
    "# Equation (don't change)\n",
    "#========================\n",
    "emission_rate = ppm_volume  * density_air * dry_volumetric_flow * (mol_wt_gas / mol_wt_air)\n",
    "emission_rate_gs = round((emission_rate/1000), 3)\n",
    "print \"Emission per second = {} g/s\".format(emission_rate_gs)"
   ]
  },
  {
   "cell_type": "code",
   "execution_count": 135,
   "metadata": {
    "collapsed": false
   },
   "outputs": [
    {
     "name": "stdout",
     "output_type": "stream",
     "text": [
      "=====================================================================\n",
      "The stack emissions were calculated based on the following parameters\n",
      "---------------------------------------------------------------------\n",
      "-Stack diameter      = 0.3 m\n",
      "-Exit velocity       = 6 m/s\n",
      "-Volumetric flow     = 0.31 m3/s\n",
      "-Emission in ppm     = 106 ppm\n",
      "-Emission per second = 0.067 g/s\n",
      "=====================================================================\n"
     ]
    }
   ],
   "source": [
    "#==============================\n",
    "# Copy this to your report\n",
    "#==============================\n",
    "print \"=====================================================================\"\n",
    "print \"The stack emissions were calculated based on the following parameters\"\n",
    "print \"---------------------------------------------------------------------\"\n",
    "print \"-Stack diameter      = {} m\".format(stack_diameter)\n",
    "print \"-Exit velocity       = {} m/s\".format(gas_velocity)\n",
    "print \"-Volumetric flow     = {} m3/s\".format(dry_volumetric_flow)\n",
    "print \"-Emission in ppm     = {} ppm\".format(ppm_volume)\n",
    "print \"-Emission per second = {} g/s\".format(emission_rate_gs)\n",
    "print \"=====================================================================\""
   ]
  },
  {
   "cell_type": "code",
   "execution_count": null,
   "metadata": {
    "collapsed": true
   },
   "outputs": [],
   "source": []
  }
 ],
 "metadata": {
  "kernelspec": {
   "display_name": "Python 2",
   "language": "python",
   "name": "python2"
  },
  "language_info": {
   "codemirror_mode": {
    "name": "ipython",
    "version": 2
   },
   "file_extension": ".py",
   "mimetype": "text/x-python",
   "name": "python",
   "nbconvert_exporter": "python",
   "pygments_lexer": "ipython2",
   "version": "2.7.13"
  }
 },
 "nbformat": 4,
 "nbformat_minor": 2
}
